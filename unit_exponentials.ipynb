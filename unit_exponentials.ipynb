{
 "cells": [
  {
   "cell_type": "code",
   "execution_count": 1,
   "id": "973b4d41-ffbd-49e1-832a-7e310a145798",
   "metadata": {},
   "outputs": [],
   "source": [
    "import numpy"
   ]
  },
  {
   "cell_type": "code",
   "execution_count": 20,
   "id": "7e793d9b-ef89-4d0d-b7ec-d67aeaf5b5df",
   "metadata": {},
   "outputs": [],
   "source": [
    "def uexp(t):\n",
    "    if t <= 0:\n",
    "        def uexp_0(x):\n",
    "            return x\n",
    "\n",
    "        return uexp_0\n",
    "        \n",
    "    denominator = numpy.exp(t) - 1.0    \n",
    "    invdenominator = 1.0/denominator\n",
    "\n",
    "    def uexp_t(x):\n",
    "        return (numpy.exp(t*x) - 1.0)*invdenominator\n",
    "\n",
    "    return uexp_t"
   ]
  },
  {
   "cell_type": "code",
   "execution_count": 15,
   "id": "09f8439a-5b5e-468d-be32-c49fba54362e",
   "metadata": {},
   "outputs": [],
   "source": [
    "def exploding_point_uexp(t):\n",
    "    if t <= 0:\n",
    "        return 0.5\n",
    "        \n",
    "    return (numpy.log(numpy.exp(t) - 1) - numpy.log(t))/t"
   ]
  },
  {
   "cell_type": "code",
   "execution_count": null,
   "id": "49c725de-f879-4f7e-8dba-931a6fe3bcdb",
   "metadata": {},
   "outputs": [],
   "source": []
  }
 ],
 "metadata": {
  "kernelspec": {
   "display_name": "Python 3 (ipykernel)",
   "language": "python",
   "name": "python3"
  },
  "language_info": {
   "codemirror_mode": {
    "name": "ipython",
    "version": 3
   },
   "file_extension": ".py",
   "mimetype": "text/x-python",
   "name": "python",
   "nbconvert_exporter": "python",
   "pygments_lexer": "ipython3",
   "version": "3.12.7"
  }
 },
 "nbformat": 4,
 "nbformat_minor": 5
}
