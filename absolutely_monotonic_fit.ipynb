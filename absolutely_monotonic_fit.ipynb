{
 "cells": [
  {
   "cell_type": "markdown",
   "id": "7fadeaf4-13a5-45e5-abda-2e7d10f07a07",
   "metadata": {},
   "source": [
    "# Imports"
   ]
  },
  {
   "cell_type": "code",
   "execution_count": 3,
   "id": "d5786b33-bb98-49a0-986c-da9cab755cc5",
   "metadata": {},
   "outputs": [],
   "source": [
    "import matplotlib.pyplot as plt\n",
    "import numpy\n",
    "from scipy.optimize import least_squares\n",
    "\n",
    "%run unit_exponentials.ipynb"
   ]
  },
  {
   "cell_type": "markdown",
   "id": "b60c6497-625c-4972-a188-425c1f3d210a",
   "metadata": {},
   "source": [
    "# Hyperparameters"
   ]
  },
  {
   "cell_type": "code",
   "execution_count": 21,
   "id": "551629fa-3726-4147-895c-51f66935a9ea",
   "metadata": {},
   "outputs": [],
   "source": [
    "# Number of unit exponentials to add\n",
    "n = 7\n",
    "\n",
    "# Boundaries of multiplier arguments\n",
    "min_k = 1.25\n",
    "max_k = 2.25\n",
    "\n",
    "# Maximum weight multiplier\n",
    "r = 3\n",
    "\n",
    "# Initial value for weights\n",
    "default_w = 0.5\n",
    "\n",
    "# Initial value for k_0\n",
    "default_initial_k = 0.5\n",
    "\n",
    "# Initial value for other k_j\n",
    "default_k = 2"
   ]
  },
  {
   "cell_type": "markdown",
   "id": "d60eee61-9eb9-4254-85ce-42bebbc02fa7",
   "metadata": {},
   "source": [
    "# Sums of unit exponentials"
   ]
  },
  {
   "cell_type": "code",
   "execution_count": 8,
   "id": "24548552-72d2-4596-98a5-97b2c741865d",
   "metadata": {},
   "outputs": [],
   "source": [
    "# params should be an array [k_0,w_1,k_1,w_2,...,w_n]\n",
    "def uexp_sum(params, n=n):\n",
    "    k0 = params[0]\n",
    "    cur_t = k0\n",
    "    cur_w = params[1]\n",
    "    uexps = [uexp(cur_t)]\n",
    "    ww = [cur_w]\n",
    "\n",
    "    for i in range(1,n):\n",
    "        cur_k = params[2*i]\n",
    "        cur_t = cur_t * cur_k\n",
    "        uexps.append(uexp(cur_t))\n",
    "        \n",
    "        cur_w = params[2*i+1]\n",
    "        ww.append(cur_w)\n",
    "\n",
    "    def uexp_sum_f(x):\n",
    "        result = 0.0\n",
    "        for i in range(n):\n",
    "            w = ww[i]\n",
    "            uexp_f = uexps[i]\n",
    "\n",
    "            result += w * uexp_f(x)\n",
    "\n",
    "        return result\n",
    "\n",
    "    return uexp_sum_f"
   ]
  },
  {
   "cell_type": "code",
   "execution_count": 25,
   "id": "606513a1-5562-4cc2-b838-8283c2626615",
   "metadata": {},
   "outputs": [],
   "source": [
    "def uexp_sum_str(params, n=n):\n",
    "    k0 = params[0]\n",
    "    cur_t = k0\n",
    "    cur_w = params[1]\n",
    "\n",
    "    result = f\"{cur_w:.2f}uexp({cur_t:.2f})\"\n",
    "\n",
    "    for i in range(1,n):\n",
    "        cur_k = params[2*i]\n",
    "        cur_t = cur_t * cur_k\n",
    "        cur_w = params[2*i+1]\n",
    "        result += f\" + {cur_w:.2f}uexp({cur_t:.2f})\"\n",
    "\n",
    "    return result"
   ]
  },
  {
   "cell_type": "markdown",
   "id": "7c534da5-9cf7-4854-bd9d-af98a18cd191",
   "metadata": {},
   "source": [
    "# Least squares fitting"
   ]
  },
  {
   "cell_type": "code",
   "execution_count": 22,
   "id": "b84fba3c-ab64-42c5-aa0f-4654689b43f1",
   "metadata": {},
   "outputs": [],
   "source": [
    "def residuals_absolutely_monotonic_fit_parametric(params, xx, yy, **kwargs):            \n",
    "    f = uexp_sum(params, **kwargs)\n",
    "\n",
    "    fxx = f(xx)\n",
    "    \n",
    "    return yy - fxx\n",
    "    \n",
    "def absolutely_monotonic_fit_parametric(xx, yy, n=n,min_k=min_k,max_k=max_k,default_initial_k=default_initial_k,default_k=default_k,default_w=default_w,r=r,**kwargs):        \n",
    "    max_y = numpy.max(yy)\n",
    "    \n",
    "    min_bounds = [0,0]\n",
    "    max_bounds = [max_k,r*max_y]\n",
    "    initial_params = [default_initial_k,default_w]\n",
    "    \n",
    "    for i in range(1,n):\n",
    "        min_bounds.append(min_k)\n",
    "        min_bounds.append(0)\n",
    "        max_bounds.append(max_k)\n",
    "        max_bounds.append(r*max_y)\n",
    "        initial_params.append(default_k)\n",
    "        initial_params.append(default_w)\n",
    "    \n",
    "    residuals_lambda = lambda params:residuals_absolutely_monotonic_fit_parametric(params,xx,yy,**kwargs)    \n",
    "    \n",
    "    result = least_squares(residuals_lambda, initial_params, bounds=(min_bounds,max_bounds))\n",
    "\n",
    "    return result.x"
   ]
  },
  {
   "cell_type": "code",
   "execution_count": 32,
   "id": "cf8eb631-70c7-485a-9106-e01e5fcd58fb",
   "metadata": {},
   "outputs": [
    {
     "name": "stdout",
     "output_type": "stream",
     "text": [
      "[0.         0.01010101 0.02020202 0.03030303 0.04040404 0.05050505\n",
      " 0.06060606 0.07070707 0.08080808 0.09090909 0.1010101  0.11111111\n",
      " 0.12121212 0.13131313 0.14141414 0.15151515 0.16161616 0.17171717\n",
      " 0.18181818 0.19191919 0.2020202  0.21212121 0.22222222 0.23232323\n",
      " 0.24242424 0.25252525 0.26262626 0.27272727 0.28282828 0.29292929\n",
      " 0.3030303  0.31313131 0.32323232 0.33333333 0.34343434 0.35353535\n",
      " 0.36363636 0.37373737 0.38383838 0.39393939 0.4040404  0.41414141\n",
      " 0.42424242 0.43434343 0.44444444 0.45454545 0.46464646 0.47474747\n",
      " 0.48484848 0.49494949 0.50505051 0.51515152 0.52525253 0.53535354\n",
      " 0.54545455 0.55555556 0.56565657 0.57575758 0.58585859 0.5959596\n",
      " 0.60606061 0.61616162 0.62626263 0.63636364 0.64646465 0.65656566\n",
      " 0.66666667 0.67676768 0.68686869 0.6969697  0.70707071 0.71717172\n",
      " 0.72727273 0.73737374 0.74747475 0.75757576 0.76767677 0.77777778\n",
      " 0.78787879 0.7979798  0.80808081 0.81818182 0.82828283 0.83838384\n",
      " 0.84848485 0.85858586 0.86868687 0.87878788 0.88888889 0.8989899\n",
      " 0.90909091 0.91919192 0.92929293 0.93939394 0.94949495 0.95959596\n",
      " 0.96969697 0.97979798 0.98989899 1.        ]\n",
      "[0.         0.0101522  0.02040746 0.03076684 0.04123139 0.05180218\n",
      " 0.06248028 0.07326679 0.0841628  0.09516944 0.10628782 0.11751907\n",
      " 0.12886434 0.1403248  0.1519016  0.16359593 0.17540899 0.18734197\n",
      " 0.1993961  0.21157261 0.22387273 0.23629773 0.24884887 0.26152743\n",
      " 0.2743347  0.287272   0.30034064 0.31354196 0.32687729 0.34034801\n",
      " 0.35395549 0.36770112 0.38158629 0.39561243 0.40978096 0.42409333\n",
      " 0.43855101 0.45315546 0.46790818 0.48281068 0.49786447 0.51307108\n",
      " 0.52843208 0.54394902 0.5596235  0.5754571  0.59145146 0.60760818\n",
      " 0.62392894 0.64041539 0.65706921 0.6738921  0.69088579 0.70805199\n",
      " 0.72539247 0.742909   0.76060336 0.77847735 0.7965328  0.81477156\n",
      " 0.83319548 0.85180644 0.87060634 0.88959711 0.90878067 0.92815899\n",
      " 0.94773404 0.96750782 0.98748235 1.00765966 1.02804182 1.0486309\n",
      " 1.06942901 1.09043826 1.1116608  1.1330988  1.15475444 1.17662993\n",
      " 1.19872751 1.22104942 1.24359796 1.26637541 1.2893841  1.31262638\n",
      " 1.33610462 1.35982121 1.38377858 1.40797917 1.43242545 1.45711992\n",
      " 1.48206508 1.5072635  1.53271773 1.55843038 1.58440408 1.61064146\n",
      " 1.6371452  1.66391802 1.69096264 1.71828183]\n",
      "[4.07897417e-01 8.84376468e-04 1.56468159e+00 2.34578287e-08\n",
      " 1.26858892e+00 9.79382330e-02 1.25000059e+00 1.61950343e+00\n",
      " 1.25000413e+00 1.12348944e-08 1.27283090e+00 9.64339378e-07\n",
      " 1.27912412e+00 2.71402379e-07]\n",
      "0.00uexp(0.41) + 0.00uexp(0.64) + 0.10uexp(0.81) + 1.62uexp(1.01) + 0.00uexp(1.27) + 0.00uexp(1.61) + 0.00uexp(2.06)\n"
     ]
    }
   ],
   "source": [
    "f = lambda x: numpy.exp(x)-1\n",
    "xx = numpy.linspace(0,1,100)\n",
    "yy = f(xx)\n",
    "print(xx)\n",
    "print(yy)\n",
    "\n",
    "result_params = absolutely_monotonic_fit_parametric(xx,yy)\n",
    "print(result_params)\n",
    "print(uexp_sum_str(result_params))"
   ]
  },
  {
   "cell_type": "code",
   "execution_count": null,
   "id": "84a42ecd-4013-478e-88fb-0307398f9686",
   "metadata": {},
   "outputs": [],
   "source": []
  }
 ],
 "metadata": {
  "kernelspec": {
   "display_name": "Python 3 (ipykernel)",
   "language": "python",
   "name": "python3"
  },
  "language_info": {
   "codemirror_mode": {
    "name": "ipython",
    "version": 3
   },
   "file_extension": ".py",
   "mimetype": "text/x-python",
   "name": "python",
   "nbconvert_exporter": "python",
   "pygments_lexer": "ipython3",
   "version": "3.12.7"
  }
 },
 "nbformat": 4,
 "nbformat_minor": 5
}
